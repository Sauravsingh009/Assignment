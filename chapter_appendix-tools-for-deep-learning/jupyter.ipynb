{
  "cells": [
    {
      "cell_type": "markdown",
      "metadata": {
        "id": "view-in-github",
        "colab_type": "text"
      },
      "source": [
        "<a href=\"https://colab.research.google.com/github/Sauravsingh009/Assignment-1/blob/main/chapter_appendix-tools-for-deep-learning/jupyter.ipynb\" target=\"_parent\"><img src=\"https://colab.research.google.com/assets/colab-badge.svg\" alt=\"Open In Colab\"/></a>"
      ]
    },
    {
      "cell_type": "code",
      "source": [
        "#Q1. How do you comment code in Python? What are the different types of comments?\n",
        "#answer:\n",
        "#we make  single line comment  by using '#' symbol.Anything after this symbol is ignored by pthon.\n",
        "#for example:\n",
        "# this is an apple.\n",
        "#we make multi-line comment by using triple quotes(\"\"\"or\"\"\").\n",
        "#for example:\n",
        "\"\"\"i am saurav singh.\n",
        "i am BCA gradute.\"\"\"\n"
      ],
      "metadata": {
        "id": "nIrI2bdgeemc",
        "outputId": "f2be3f6f-bcda-4184-d511-74f0913b3f57",
        "colab": {
          "base_uri": "https://localhost:8080/",
          "height": 35
        }
      },
      "id": "nIrI2bdgeemc",
      "execution_count": 1,
      "outputs": [
        {
          "output_type": "execute_result",
          "data": {
            "text/plain": [
              "'i am saurav singh.\\ni am BCA gradute.'"
            ],
            "application/vnd.google.colaboratory.intrinsic+json": {
              "type": "string"
            }
          },
          "metadata": {},
          "execution_count": 1
        }
      ]
    },
    {
      "cell_type": "code",
      "source": [
        "#Q2. What are variables in Python? How do you declare and assign values to variables?\n",
        "#Answer:\n",
        "#Variables are like containers that hold information. You can give them names, and they store data that your program can use. This data can be numbers, text, lists, or more complex types.\n",
        "#In Python, you don't need to formally declare a variable before using it. You simply assign a value to it, and Python automatically creates the variable\n",
        "#for Example:\n",
        "a=45\n",
        "a"
      ],
      "metadata": {
        "id": "5zSstOs3gRuv",
        "outputId": "185890b7-b6ef-475c-ac87-8b4c51990ebd",
        "colab": {
          "base_uri": "https://localhost:8080/"
        }
      },
      "id": "5zSstOs3gRuv",
      "execution_count": 2,
      "outputs": [
        {
          "output_type": "execute_result",
          "data": {
            "text/plain": [
              "45"
            ]
          },
          "metadata": {},
          "execution_count": 2
        }
      ]
    },
    {
      "cell_type": "code",
      "source": [
        "#Q3. How do you convert one data type to another in Python?\n",
        "#Answer:\n",
        "#Data type conversion, also known as type casting, is the process of changing the data type of a variable from one type to another. For example, you might want to convert a string to an integer or a float to a string.\n",
        "#for example:\n",
        "a=\"45\"\n",
        "b=45\n",
        "print(type(a))\n",
        "print(type(b))\n",
        "c=45.67\n",
        "print(type(c))\n",
        "d=\"45.67\"\n",
        "print(type(d))\n"
      ],
      "metadata": {
        "id": "ZeJk1P_Xhlpo",
        "outputId": "c5e2d62c-e662-44cb-bdf1-6cb4a82b142f",
        "colab": {
          "base_uri": "https://localhost:8080/"
        }
      },
      "id": "ZeJk1P_Xhlpo",
      "execution_count": 20,
      "outputs": [
        {
          "output_type": "stream",
          "name": "stdout",
          "text": [
            "<class 'str'>\n",
            "<class 'int'>\n",
            "<class 'float'>\n",
            "<class 'str'>\n"
          ]
        }
      ]
    },
    {
      "cell_type": "code",
      "source": [
        "#Q4. How do you write and execute a Python script from the command line?\n",
        "#answer:\n",
        "\"\"\" 1. Writing the Script\n",
        "\n",
        "Open a text editor and create a new file. You can use any text editor you like, such as Notepad, VS Code, or Sublime Text.\n",
        "Write your Python code in the file. For example, you could write a simple script that prints \"Hello, world!\":\"\"\"\n",
        "\n",
        "print(\"Hello, world!\")\n",
        "\n",
        "#Save the file with a .py extension. For example, you could save the file as hello.py.\n",
        "#2. Executing the Script\n",
        "\n",
        "\"\"\"Open a command line or terminal window.\n",
        "Navigate to the directory where you saved the script using the cd command. For example, if you saved the script in the Documents folder, you would type cd Documents.\n",
        "Execute the script using the python command followed by the name of the script file. For example, to execute the hello.py script, you would type python hello.py.\"\"\"\n",
        "#Example\n",
        "\n",
        "\"\"\"Here are the steps you would take to execute a python script called \"myscript.py\":\n",
        "Open your command line/terminal.\n",
        "Navigate to the directory where \"myscript.py\" is saved. For example: cd /home/user/Desktop\n",
        "Execute the script with: python myscript.py \"\"\"\n",
        "\n"
      ],
      "metadata": {
        "id": "SqrLCeqfi26Q",
        "outputId": "40264f55-0aa0-425b-846a-e87652633719",
        "colab": {
          "base_uri": "https://localhost:8080/",
          "height": 87
        }
      },
      "id": "SqrLCeqfi26Q",
      "execution_count": 21,
      "outputs": [
        {
          "output_type": "stream",
          "name": "stdout",
          "text": [
            "Hello, world!\n"
          ]
        },
        {
          "output_type": "execute_result",
          "data": {
            "text/plain": [
              "'Here are the steps you would take to execute a python script called \"myscript.py\":\\nOpen your command line/terminal.\\nNavigate to the directory where \"myscript.py\" is saved. For example: cd /home/user/Desktop\\nExecute the script with: python myscript.py '"
            ],
            "application/vnd.google.colaboratory.intrinsic+json": {
              "type": "string"
            }
          },
          "metadata": {},
          "execution_count": 21
        }
      ]
    },
    {
      "cell_type": "code",
      "source": [
        "#Q5. Given a list my_list = [1, 2, 3, 4, 5], write the code to slice the list and obtain the sub-list [2, 3].\n",
        "#Answer:\n",
        "my_list = [1, 2, 3, 4, 5]\n",
        "sub_list=my_list[1:3]\n",
        "print(sub_list)\n"
      ],
      "metadata": {
        "id": "EI8S5FfzmpXq",
        "outputId": "aa5bb28d-4f69-4365-de5d-43147c7639ed",
        "colab": {
          "base_uri": "https://localhost:8080/"
        }
      },
      "id": "EI8S5FfzmpXq",
      "execution_count": 23,
      "outputs": [
        {
          "output_type": "stream",
          "name": "stdout",
          "text": [
            "[2, 3]\n"
          ]
        }
      ]
    },
    {
      "cell_type": "code",
      "source": [
        "#Q6. What is a complex number in mathematics, and how is it represented in Python?\n",
        "#Answer:\n",
        "\"\"\"In mathematics, a complex number is a number that can be expressed in the form a + bi, where:\n",
        "\n",
        "a and b are real numbers.\n",
        "i is the imaginary unit, satisfying the equation i² = −1.\n",
        "In this expression, a is the real part and b is the imaginary part of the complex number.\"\"\"\n",
        "#In python complex number is represented in \"5+6j\".\n",
        "s=5+6j\n",
        "type(s)"
      ],
      "metadata": {
        "id": "GjFiT1l_nAfk",
        "outputId": "840959d5-6183-4c7f-ff3a-49b750e73eaf",
        "colab": {
          "base_uri": "https://localhost:8080/"
        }
      },
      "id": "GjFiT1l_nAfk",
      "execution_count": 24,
      "outputs": [
        {
          "output_type": "execute_result",
          "data": {
            "text/plain": [
              "complex"
            ]
          },
          "metadata": {},
          "execution_count": 24
        }
      ]
    },
    {
      "cell_type": "code",
      "source": [
        "#Q7. What is the correct way to declare a variable named age and assign the value 25 to it?\n",
        "#Answer:\n",
        "\"\"\"The correct way to declare a variable named age and assign the value 25 to it in Python is as follows:\"\"\"\n",
        "age=25\n",
        "age"
      ],
      "metadata": {
        "id": "uQepb5VRo_nU",
        "outputId": "0b7b7a15-0d0a-4268-ec39-0da0344d2dd9",
        "colab": {
          "base_uri": "https://localhost:8080/"
        }
      },
      "id": "uQepb5VRo_nU",
      "execution_count": 26,
      "outputs": [
        {
          "output_type": "execute_result",
          "data": {
            "text/plain": [
              "25"
            ]
          },
          "metadata": {},
          "execution_count": 26
        }
      ]
    },
    {
      "cell_type": "code",
      "source": [
        "#Q8. Declare a variable named price and assign the value 9.99 to it. What data type does this variable belong to?\n",
        "#Answer:\n",
        "price=9.99\n",
        "type(price)\n",
        "#this data type belong to float data type."
      ],
      "metadata": {
        "id": "RXM5GYw_pQOR",
        "outputId": "4aad14e8-7f15-44dd-cb2a-c4ff80627c87",
        "colab": {
          "base_uri": "https://localhost:8080/"
        }
      },
      "id": "RXM5GYw_pQOR",
      "execution_count": 28,
      "outputs": [
        {
          "output_type": "execute_result",
          "data": {
            "text/plain": [
              "float"
            ]
          },
          "metadata": {},
          "execution_count": 28
        }
      ]
    },
    {
      "cell_type": "code",
      "source": [
        "#Q9. Create a variable named name and assign your full name to it as a string. How would you print the value of this variable?\n",
        "#Answer:\n",
        "name='Saurav singh'\n",
        "print(name)\n"
      ],
      "metadata": {
        "id": "WujXDRSsptOg",
        "outputId": "dfa86a3f-3d55-4146-e3ff-3e506bb90f76",
        "colab": {
          "base_uri": "https://localhost:8080/"
        }
      },
      "id": "WujXDRSsptOg",
      "execution_count": 29,
      "outputs": [
        {
          "output_type": "stream",
          "name": "stdout",
          "text": [
            "Saurav singh\n"
          ]
        }
      ]
    },
    {
      "cell_type": "code",
      "source": [
        "#Q10. Given the string \"Hello, World!\", extract the substring \"World\".\n",
        "#Answer:\n",
        "string=\"Hello,world!\"\n",
        "new_string=string[6:11]\n",
        "new_string"
      ],
      "metadata": {
        "id": "EYg9IMYbqyDL",
        "outputId": "c59b5f51-d886-4739-f599-61c785637ac3",
        "colab": {
          "base_uri": "https://localhost:8080/",
          "height": 35
        }
      },
      "id": "EYg9IMYbqyDL",
      "execution_count": 32,
      "outputs": [
        {
          "output_type": "execute_result",
          "data": {
            "text/plain": [
              "'world'"
            ],
            "application/vnd.google.colaboratory.intrinsic+json": {
              "type": "string"
            }
          },
          "metadata": {},
          "execution_count": 32
        }
      ]
    },
    {
      "cell_type": "code",
      "source": [
        "#Q11. Create a variable named \"is_student\" and assign it a boolean value indicating whether you are currently a student or not.\n",
        "#Answer:\n",
        "is_student=True\n",
        "is_student"
      ],
      "metadata": {
        "id": "wYRvmtIZrnXB",
        "outputId": "6b3920f7-56d4-4358-b680-68f465f5bedb",
        "colab": {
          "base_uri": "https://localhost:8080/"
        }
      },
      "id": "wYRvmtIZrnXB",
      "execution_count": 33,
      "outputs": [
        {
          "output_type": "execute_result",
          "data": {
            "text/plain": [
              "True"
            ]
          },
          "metadata": {},
          "execution_count": 33
        }
      ]
    },
    {
      "cell_type": "code",
      "source": [],
      "metadata": {
        "id": "U3jcgh3rs63P"
      },
      "id": "U3jcgh3rs63P",
      "execution_count": null,
      "outputs": []
    }
  ],
  "metadata": {
    "kernelspec": {
      "display_name": "Python 3",
      "name": "python3"
    },
    "language_info": {
      "name": "python"
    },
    "required_libs": [],
    "colab": {
      "provenance": [],
      "include_colab_link": true
    }
  },
  "nbformat": 4,
  "nbformat_minor": 5
}