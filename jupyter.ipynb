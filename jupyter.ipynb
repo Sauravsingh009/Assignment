{
  "cells": [
    {
      "cell_type": "markdown",
      "metadata": {
        "id": "view-in-github",
        "colab_type": "text"
      },
      "source": [
        "<a href=\"https://colab.research.google.com/github/Sauravsingh009/Assignment-1/blob/main/jupyter.ipynb\" target=\"_parent\"><img src=\"https://colab.research.google.com/assets/colab-badge.svg\" alt=\"Open In Colab\"/></a>"
      ]
    },
    {
      "cell_type": "code",
      "source": [
        "#Q1. How do you comment code in Python? What are the different types of comments?\n",
        "#answer:\n",
        "#we make  single line comment  by using '#' symbol.Anything after this symbol is ignored by pthon.\n",
        "#for example:\n",
        "# this is an apple.\n",
        "#we make multi-line comment by using triple quotes(\"\"\"or\"\"\").\n",
        "#for example:\n",
        "\"\"\"i am saurav singh.\n",
        "i am BCA gradute.\"\"\""
      ],
      "metadata": {
        "id": "jAw78f-n0sm2",
        "outputId": "5bd6e9a6-1ec7-43e2-dffe-fa015e77933e",
        "colab": {
          "base_uri": "https://localhost:8080/",
          "height": 35
        }
      },
      "id": "jAw78f-n0sm2",
      "execution_count": 37,
      "outputs": [
        {
          "output_type": "execute_result",
          "data": {
            "text/plain": [
              "'i am saurav singh.\\ni am BCA gradute.'"
            ],
            "application/vnd.google.colaboratory.intrinsic+json": {
              "type": "string"
            }
          },
          "metadata": {},
          "execution_count": 37
        }
      ]
    },
    {
      "cell_type": "code",
      "source": [
        "#Q2. What are variables in Python? How do you declare and assign values to variables?\n",
        "#Answer:\n",
        "#Variables are like containers that hold information. You can give them names, and they store data that your program can use. This data can be numbers, text, lists, or more complex types.\n",
        "#In Python, you don't need to formally declare a variable before using it. You simply assign a value to it, and Python automatically creates the variable\n",
        "#for Example:\n",
        "a=45\n",
        "a\n"
      ],
      "metadata": {
        "id": "nBdKIkpK05w-",
        "outputId": "88e51bf9-9c57-42e7-f873-876ccd8f9c45",
        "colab": {
          "base_uri": "https://localhost:8080/"
        }
      },
      "id": "nBdKIkpK05w-",
      "execution_count": 38,
      "outputs": [
        {
          "output_type": "execute_result",
          "data": {
            "text/plain": [
              "45"
            ]
          },
          "metadata": {},
          "execution_count": 38
        }
      ]
    },
    {
      "cell_type": "code",
      "source": [
        "#Q3. How do you convert one data type to another in Python?\n",
        "#Answer:\n",
        "#Data type conversion, also known as type casting, is the process of changing the data type of a variable from one type to another. For example, you might want to convert a string to an integer or a float to a string.\n",
        "#for example:\n",
        "a=\"45\"\n",
        "b=45\n",
        "print(type(a))\n",
        "print(type(b))\n",
        "c=45.67\n",
        "print(type(c))\n",
        "d=\"45.67\"\n",
        "print(type(d))"
      ],
      "metadata": {
        "id": "Rt7Wg61308fz",
        "outputId": "19755114-ea6d-4604-f178-27dac0ef38e3",
        "colab": {
          "base_uri": "https://localhost:8080/"
        }
      },
      "id": "Rt7Wg61308fz",
      "execution_count": 39,
      "outputs": [
        {
          "output_type": "stream",
          "name": "stdout",
          "text": [
            "<class 'str'>\n",
            "<class 'int'>\n",
            "<class 'float'>\n",
            "<class 'str'>\n"
          ]
        }
      ]
    },
    {
      "cell_type": "code",
      "source": [
        "#Q4. How do you write and execute a Python script from the command line?\n",
        "#answer:\n",
        "\"\"\" 1. Writing the Script\n",
        "\n",
        "Open a text editor and create a new file. You can use any text editor you like, such as Notepad, VS Code, or Sublime Text.\n",
        "Write your Python code in the file. For example, you could write a simple script that prints \"Hello, world!\":\"\"\"\n",
        "\n",
        "print(\"Hello, world!\")\n",
        "\n",
        "#Save the file with a .py extension. For example, you could save the file as hello.py.\n",
        "#2. Executing the Script\n",
        "\n",
        "\"\"\"Open a command line or terminal window.\n",
        "Navigate to the directory where you saved the script using the cd command. For example, if you saved the script in the Documents folder, you would type cd Documents.\n",
        "Execute the script using the python command followed by the name of the script file. For example, to execute the hello.py script, you would type python hello.py.\"\"\"\n",
        "#Example\n",
        "\n",
        "\"\"\"Here are the steps you would take to execute a python script called \"myscript.py\":\n",
        "Open your command line/terminal.\n",
        "Navigate to the directory where \"myscript.py\" is saved. For example: cd /home/user/Desktop\n",
        "Execute the script with: python myscript.py \"\"\"\n",
        "\n"
      ],
      "metadata": {
        "id": "DKzENZLf0v5x",
        "outputId": "b8fb99bb-762a-4d99-eeff-332ebfdccb06",
        "colab": {
          "base_uri": "https://localhost:8080/",
          "height": 70
        }
      },
      "id": "DKzENZLf0v5x",
      "execution_count": 36,
      "outputs": [
        {
          "output_type": "stream",
          "name": "stdout",
          "text": [
            "Hello, world!\n"
          ]
        },
        {
          "output_type": "execute_result",
          "data": {
            "text/plain": [
              "'Here are the steps you would take to execute a python script called \"myscript.py\":\\nOpen your command line/terminal.\\nNavigate to the directory where \"myscript.py\" is saved. For example: cd /home/user/Desktop\\nExecute the script with: python myscript.py '"
            ],
            "application/vnd.google.colaboratory.intrinsic+json": {
              "type": "string"
            }
          },
          "metadata": {},
          "execution_count": 36
        }
      ]
    },
    {
      "cell_type": "code",
      "source": [
        "#Q5. Given a list my_list = [1, 2, 3, 4, 5], write the code to slice the list and obtain the sub-list [2, 3].\n",
        "#Answer:\n",
        "my_list = [1, 2, 3, 4, 5]\n",
        "sub_list=my_list[1:3]\n",
        "print(sub_list)"
      ],
      "metadata": {
        "id": "lZdQE3WQ17-4",
        "outputId": "5a24cb20-e9d1-47c6-a31c-59c0720478b2",
        "colab": {
          "base_uri": "https://localhost:8080/"
        }
      },
      "id": "lZdQE3WQ17-4",
      "execution_count": 40,
      "outputs": [
        {
          "output_type": "stream",
          "name": "stdout",
          "text": [
            "[2, 3]\n"
          ]
        }
      ]
    },
    {
      "cell_type": "code",
      "source": [
        "#06. What is a complex number in mathematics, and how is it represented in Python?\n",
        "#Answer:\n",
        "\"\"\"In mathematics, a complex number is a number that can be expressed in the form a + bi, where:\n",
        "\n",
        "a and b are real numbers.\n",
        "i is the imaginary unit, satisfying the equation i² = −1.\n",
        "In this expression, a is the real part and b is the imaginary part of the complex number.\"\"\"\n",
        "#In python complex number is represented in \"5+6j\".\n",
        "s=5+6j\n",
        "type(s)"
      ],
      "metadata": {
        "id": "ttNRHfcx2YLR",
        "outputId": "0a363008-b606-44a0-ff6b-da59cf6fcf47",
        "colab": {
          "base_uri": "https://localhost:8080/"
        }
      },
      "id": "ttNRHfcx2YLR",
      "execution_count": 41,
      "outputs": [
        {
          "output_type": "execute_result",
          "data": {
            "text/plain": [
              "complex"
            ]
          },
          "metadata": {},
          "execution_count": 41
        }
      ]
    },
    {
      "cell_type": "code",
      "source": [
        "#Q7. What is the correct way to declare a variable named age and assign the value 25 to it?\n",
        "#Answer:\n",
        "\"\"\"The correct way to declare a variable named age and assign the value 25 to it in Python is as follows:\"\"\"\n",
        "age=25\n",
        "age"
      ],
      "metadata": {
        "id": "aMxx6Q2J2oZ6",
        "outputId": "fe0bf539-07f9-4844-ac02-d1616c611192",
        "colab": {
          "base_uri": "https://localhost:8080/"
        }
      },
      "id": "aMxx6Q2J2oZ6",
      "execution_count": 42,
      "outputs": [
        {
          "output_type": "execute_result",
          "data": {
            "text/plain": [
              "25"
            ]
          },
          "metadata": {},
          "execution_count": 42
        }
      ]
    },
    {
      "cell_type": "code",
      "source": [
        "#Q8. Declare a variable named price and assign the value 9.99 to it. What data type does this variable belong to?\n",
        "#Answer:\n",
        "price=9.99\n",
        "type(price)\n",
        "#this data type belong to float data type."
      ],
      "metadata": {
        "id": "knkDu3N62zmm",
        "outputId": "c7e7d8da-3d56-4bf8-9221-0950050239c8",
        "colab": {
          "base_uri": "https://localhost:8080/"
        }
      },
      "id": "knkDu3N62zmm",
      "execution_count": 43,
      "outputs": [
        {
          "output_type": "execute_result",
          "data": {
            "text/plain": [
              "float"
            ]
          },
          "metadata": {},
          "execution_count": 43
        }
      ]
    },
    {
      "cell_type": "code",
      "source": [
        "\n",
        "#Q9. Create a variable named name and assign your full name to it as a string. How would you print the value of this variable?\n",
        "#Answer:\n",
        "name='Saurav singh'\n",
        "print(name)\n"
      ],
      "metadata": {
        "id": "bbreKAp829GN",
        "outputId": "0932df5e-0825-49a2-e348-ff49fac32865",
        "colab": {
          "base_uri": "https://localhost:8080/"
        }
      },
      "id": "bbreKAp829GN",
      "execution_count": 44,
      "outputs": [
        {
          "output_type": "stream",
          "name": "stdout",
          "text": [
            "Saurav singh\n"
          ]
        }
      ]
    },
    {
      "cell_type": "code",
      "source": [
        "#Q10. Given the string \"Hello, World!\", extract the substring \"World\".\n",
        "#Answer:\n",
        "string=\"Hello,world!\"\n",
        "new_string=string[6:11]\n",
        "new_string"
      ],
      "metadata": {
        "id": "_5wKRY6O3EZ_",
        "outputId": "b2547c9a-545c-4a30-997d-08b3321f9b6c",
        "colab": {
          "base_uri": "https://localhost:8080/",
          "height": 35
        }
      },
      "id": "_5wKRY6O3EZ_",
      "execution_count": 45,
      "outputs": [
        {
          "output_type": "execute_result",
          "data": {
            "text/plain": [
              "'world'"
            ],
            "application/vnd.google.colaboratory.intrinsic+json": {
              "type": "string"
            }
          },
          "metadata": {},
          "execution_count": 45
        }
      ]
    },
    {
      "cell_type": "code",
      "source": [
        "#Q11. Create a variable named \"is_student\" and assign it a boolean value indicating whether you are currently a student or not.\n",
        "#Answer:\n",
        "is_student=True\n",
        "is_student"
      ],
      "metadata": {
        "id": "f7KPrVXO3Mpi",
        "outputId": "b2ada218-5a52-4c10-9bf0-40b498619253",
        "colab": {
          "base_uri": "https://localhost:8080/"
        }
      },
      "id": "f7KPrVXO3Mpi",
      "execution_count": 46,
      "outputs": [
        {
          "output_type": "execute_result",
          "data": {
            "text/plain": [
              "True"
            ]
          },
          "metadata": {},
          "execution_count": 46
        }
      ]
    },
    {
      "cell_type": "code",
      "source": [],
      "metadata": {
        "id": "uJYO26y-3jn3"
      },
      "id": "uJYO26y-3jn3",
      "execution_count": null,
      "outputs": []
    }
  ],
  "metadata": {
    "kernelspec": {
      "display_name": "Python 3",
      "name": "python3"
    },
    "language_info": {
      "name": "python"
    },
    "required_libs": [],
    "colab": {
      "provenance": [],
      "include_colab_link": true
    }
  },
  "nbformat": 4,
  "nbformat_minor": 5
}