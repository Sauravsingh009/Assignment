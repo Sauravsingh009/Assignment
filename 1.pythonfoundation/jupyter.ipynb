{
  "cells": [
    {
      "cell_type": "markdown",
      "source": [
        "# Q1. Write all the conventions being followed while declaring a variable.\n",
        "Answer:1. Variable Names Should Be Descriptive and Meaningful:\n",
        "\n",
        "Choose names that clearly indicate the purpose or content of the variable.\n",
        "For example, customer_name is more informative than cn.\n",
        "2. Use Snake Case for Variable Names:\n",
        "\n",
        "Snake case involves writing variable names in lowercase with words separated by underscores ( _ ).\n",
        "This is the preferred style for variable names in Python.\n",
        "Example: total_amount, items_in_cart.\n",
        "3. Variable Names Should Start with a Letter or Underscore:\n",
        "\n",
        "They cannot begin with a number.\n",
        "Example: _count is valid, but 123count is not.\n",
        "4. Avoid Using Reserved Keywords:\n",
        "\n",
        "Reserved keywords have predefined meanings in Python. Using them as variable names can lead to errors.\n",
        "Examples of reserved keywords: if, else, for, while, True, False, etc.\n",
        "If you accidentally use a reserved word, you might get a SyntaxError: invalid syntax error.\n",
        "5. Variable Names Are Case-Sensitive:\n",
        "\n",
        "my_variable and My_Variable are considered different variables.\n",
        "6. Constants Are Typically Written in Uppercase:\n",
        "\n",
        "Constants are values that are not intended to be changed during the program's execution.\n",
        "They are usually written in all uppercase with words separated by underscores.\n",
        "Example: MAX_VALUE, PI.\n",
        "7. Declare Variables Before Use:\n",
        "\n",
        "Before using a variable, assign it a value. This helps prevent errors and improves code clarity.\n",
        "Example demonstrating a few conventions:\n",
        "\n",
        "\n"
      ],
      "metadata": {
        "id": "j5XAPnsHYrvV"
      },
      "id": "j5XAPnsHYrvV"
    },
    {
      "cell_type": "markdown",
      "source": [
        "#Q2. What will happen if we declare a restricted keyword as a variable?\n",
        "Answer:Python has a set of reserved words, also known as keywords, that have predefined meanings and functionalities within the language. These keywords cannot be used as identifiers (such as variable names, function names, etc.). Here's a list of some common Python keywords:\n",
        "```\n",
        "False, None, True, and, as, assert, async, await, break, class, continue, def, del, elif, else, except, finally, for, from, global, if, import, in, is, lambda, nonlocal, not, or, pass, raise, return, try, while, with, yield\n",
        "```"
      ],
      "metadata": {
        "id": "zU-JasacZ2-w"
      },
      "id": "zU-JasacZ2-w"
    },
    {
      "cell_type": "markdown",
      "source": [
        "#Q3. Can we actually declare a string as a variable name?\n",
        "Answer:While you can't directly use a string literal as a variable name (e.g., \"my_variable\" = 10), you can achieve a similar effect using dictionaries. Dictionaries allow you to store values associated with keys, and those keys can be strings."
      ],
      "metadata": {
        "id": "7LEHJb2qamhq"
      },
      "id": "7LEHJb2qamhq"
    },
    {
      "cell_type": "code",
      "source": [
        "my_variables = {}  # Create an empty dictionary\n",
        "my_variables[\"my_string_variable\"] = 10  # Assign a value to a string key\n",
        "\n",
        "print(my_variables[\"my_string_variable\"])  # Access the value using the string key"
      ],
      "metadata": {
        "id": "kcXSZwBPbMl7",
        "outputId": "3c84d7ef-aa4e-446b-a26b-bc254664b4ae",
        "colab": {
          "base_uri": "https://localhost:8080/"
        }
      },
      "id": "kcXSZwBPbMl7",
      "execution_count": 1,
      "outputs": [
        {
          "output_type": "stream",
          "name": "stdout",
          "text": [
            "10\n"
          ]
        }
      ]
    },
    {
      "cell_type": "markdown",
      "source": [
        "#Q4. Is it possible for us to declare “_” as a variable? If so, then write an example of it.\n",
        "Answer:Yes, it is possible to declare \"_\" as a variable in Python. While it has special meanings in certain contexts, it can also be used as a regular variable name."
      ],
      "metadata": {
        "id": "MiX5hZu1bad_"
      },
      "id": "MiX5hZu1bad_"
    },
    {
      "cell_type": "markdown",
      "source": [
        "#Q5. Using an example, explain how the variables in python are dynamic in nature.\n",
        "Answer:Python is a dynamically typed language, which means that the data type of a variable is not fixed at compile time. Instead, the interpreter determines the data type during runtime based on the value assigned to the variable. This allows variables to hold different types of data throughout the program's execution."
      ],
      "metadata": {
        "id": "5mV4hFZCb2s0"
      },
      "id": "5mV4hFZCb2s0"
    },
    {
      "cell_type": "code",
      "source": [
        "x = 10  # x is initially an integer\n",
        "print(type(x))  # Output: <class 'int'>\n",
        "\n",
        "x = \"Hello\"  # x is now a string\n",
        "print(type(x))  # Output: <class 'str'>\n",
        "\n",
        "x = [1, 2, 3]  # x is now a list\n",
        "print(type(x))  # Output: <class 'list'>"
      ],
      "metadata": {
        "id": "hM62de0rcOaG",
        "outputId": "a394b03d-8b3b-4c73-e810-61e6530af418",
        "colab": {
          "base_uri": "https://localhost:8080/"
        }
      },
      "id": "hM62de0rcOaG",
      "execution_count": 2,
      "outputs": [
        {
          "output_type": "stream",
          "name": "stdout",
          "text": [
            "<class 'int'>\n",
            "<class 'str'>\n",
            "<class 'list'>\n"
          ]
        }
      ]
    }
  ],
  "metadata": {
    "kernelspec": {
      "display_name": "Python 3",
      "name": "python3"
    },
    "language_info": {
      "name": "python"
    },
    "required_libs": [],
    "colab": {
      "provenance": []
    }
  },
  "nbformat": 4,
  "nbformat_minor": 5
}