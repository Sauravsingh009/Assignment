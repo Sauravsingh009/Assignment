{
  "cells": [
    {
      "cell_type": "markdown",
      "source": [
        "#Q1. Create an empty list.\n"
      ],
      "metadata": {
        "id": "Bl_aJvLwEFBY"
      },
      "id": "Bl_aJvLwEFBY"
    },
    {
      "cell_type": "code",
      "source": [
        "list=[]\n",
        "list"
      ],
      "metadata": {
        "id": "j_sd8QslEKBG",
        "outputId": "5ae04ad2-28f6-4943-d78d-8914ce2d3feb",
        "colab": {
          "base_uri": "https://localhost:8080/"
        }
      },
      "id": "j_sd8QslEKBG",
      "execution_count": 49,
      "outputs": [
        {
          "output_type": "execute_result",
          "data": {
            "text/plain": [
              "[]"
            ]
          },
          "metadata": {},
          "execution_count": 49
        }
      ]
    },
    {
      "cell_type": "markdown",
      "source": [
        "Q2. Create a list and add an element to the end of this list."
      ],
      "metadata": {
        "id": "HPjmxok0EZQu"
      },
      "id": "HPjmxok0EZQu"
    },
    {
      "cell_type": "code",
      "source": [
        "my_list=[1,2,3,5,4444,3345]\n",
        "my_list.append(34)\n",
        "my_list"
      ],
      "metadata": {
        "id": "xrpJEcBGEcLz",
        "outputId": "3dfde1bb-bdd7-4d77-ccd3-3860eaf43eca",
        "colab": {
          "base_uri": "https://localhost:8080/"
        }
      },
      "id": "xrpJEcBGEcLz",
      "execution_count": 117,
      "outputs": [
        {
          "output_type": "execute_result",
          "data": {
            "text/plain": [
              "[1, 2, 3, 5, 4444, 3345, 34]"
            ]
          },
          "metadata": {},
          "execution_count": 117
        }
      ]
    },
    {
      "cell_type": "markdown",
      "source": [
        "#Q3. For the above created list print the last element."
      ],
      "metadata": {
        "id": "x7R-0bKVFTHA"
      },
      "id": "x7R-0bKVFTHA"
    },
    {
      "cell_type": "code",
      "source": [
        "my_list\n",
        "my_list[6]\n"
      ],
      "metadata": {
        "id": "yeibaEsrFWkW",
        "outputId": "ec2cbf3a-6c1b-4b91-db33-d505f3e6a235",
        "colab": {
          "base_uri": "https://localhost:8080/"
        }
      },
      "id": "yeibaEsrFWkW",
      "execution_count": 118,
      "outputs": [
        {
          "output_type": "execute_result",
          "data": {
            "text/plain": [
              "34"
            ]
          },
          "metadata": {},
          "execution_count": 118
        }
      ]
    },
    {
      "cell_type": "markdown",
      "source": [
        "#Q4. Reverse the above created list."
      ],
      "metadata": {
        "id": "WnyET0BgGCTm"
      },
      "id": "WnyET0BgGCTm"
    },
    {
      "cell_type": "code",
      "source": [
        "\n",
        "my_list[::-1]\n"
      ],
      "metadata": {
        "id": "jCrL0SMeKJ0X",
        "outputId": "13384837-ab53-4df6-fdf3-e79bee2b2803",
        "colab": {
          "base_uri": "https://localhost:8080/"
        }
      },
      "id": "jCrL0SMeKJ0X",
      "execution_count": 126,
      "outputs": [
        {
          "output_type": "execute_result",
          "data": {
            "text/plain": [
              "[4444, 3345, 34, 5, 3, 2, 1]"
            ]
          },
          "metadata": {},
          "execution_count": 126
        }
      ]
    },
    {
      "cell_type": "markdown",
      "source": [
        "#Q5. Sort the above created list."
      ],
      "metadata": {
        "id": "xVSRWhv1K-K1"
      },
      "id": "xVSRWhv1K-K1"
    },
    {
      "cell_type": "code",
      "source": [
        "\n",
        "my_list.sort()\n",
        "my_list"
      ],
      "metadata": {
        "id": "UhmM7cZQLCpJ",
        "outputId": "5f65a439-9a31-4554-c4ae-40d2626ea0b0",
        "colab": {
          "base_uri": "https://localhost:8080/"
        }
      },
      "id": "UhmM7cZQLCpJ",
      "execution_count": 149,
      "outputs": [
        {
          "output_type": "execute_result",
          "data": {
            "text/plain": [
              "[1, 2, 3, 5, 34, 3345, 4444]"
            ]
          },
          "metadata": {},
          "execution_count": 149
        }
      ]
    },
    {
      "cell_type": "markdown",
      "source": [
        "#Q6. Create a list of your top three favorite movies, then print the second movie title."
      ],
      "metadata": {
        "id": "U50asezfR9QJ"
      },
      "id": "U50asezfR9QJ"
    },
    {
      "cell_type": "code",
      "source": [
        "List_movies=['avatar','Rx100','chichore']\n",
        "print(List_movies[1])"
      ],
      "metadata": {
        "id": "33FK30pMR-34",
        "outputId": "68661aff-c6bd-4dba-9136-5be62b7063aa",
        "colab": {
          "base_uri": "https://localhost:8080/"
        }
      },
      "id": "33FK30pMR-34",
      "execution_count": 139,
      "outputs": [
        {
          "output_type": "stream",
          "name": "stdout",
          "text": [
            "Rx100\n"
          ]
        }
      ]
    },
    {
      "cell_type": "markdown",
      "source": [
        "#Q7. Create a list of your favorite animals, then add a new animal to the list and print the updated list."
      ],
      "metadata": {
        "id": "yqhWKiJ2Swnu"
      },
      "id": "yqhWKiJ2Swnu"
    },
    {
      "cell_type": "code",
      "source": [
        "animal=['dog','cow','horse','lion','tiger']\n",
        "animal.insert(3,'cat')\n",
        "animal"
      ],
      "metadata": {
        "id": "bY34GnPTSy_B",
        "outputId": "67634944-84a0-4b0d-9717-7201ba505d38",
        "colab": {
          "base_uri": "https://localhost:8080/"
        }
      },
      "id": "bY34GnPTSy_B",
      "execution_count": 143,
      "outputs": [
        {
          "output_type": "execute_result",
          "data": {
            "text/plain": [
              "['dog', 'cow', 'horse', 'cat', 'lion', 'tiger']"
            ]
          },
          "metadata": {},
          "execution_count": 143
        }
      ]
    },
    {
      "cell_type": "markdown",
      "source": [
        "#Q8. Create a list of your favorite cities, then use the index() method to find the position of a specific city on the list and print it."
      ],
      "metadata": {
        "id": "IdyLujy1TrtT"
      },
      "id": "IdyLujy1TrtT"
    },
    {
      "cell_type": "code",
      "source": [
        "fav=['delhi','ranchi','sydney','las vegas','madrid']\n",
        "city=fav.index('madrid')\n",
        "print(city)"
      ],
      "metadata": {
        "id": "2kjR4FEETzX-",
        "outputId": "12b5159f-ca84-4a42-c906-fbe55591f580",
        "colab": {
          "base_uri": "https://localhost:8080/"
        }
      },
      "id": "2kjR4FEETzX-",
      "execution_count": 146,
      "outputs": [
        {
          "output_type": "stream",
          "name": "stdout",
          "text": [
            "4\n"
          ]
        }
      ]
    }
  ],
  "metadata": {
    "kernelspec": {
      "display_name": "Python 3",
      "name": "python3"
    },
    "language_info": {
      "name": "python"
    },
    "required_libs": [],
    "colab": {
      "provenance": []
    }
  },
  "nbformat": 4,
  "nbformat_minor": 5
}