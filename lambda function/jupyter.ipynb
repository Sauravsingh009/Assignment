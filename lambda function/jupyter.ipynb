{
  "cells": [
    {
      "cell_type": "markdown",
      "source": [
        "#Q1. Create a python program to sort the given list of tuples based on integer value using a\n",
        "lambda function.\n",
        "[('Sachin Tendulkar', 34357), ('Ricky Ponting', 27483), ('Jack Kallis', 25534), ('Virat Kohli', 24936)]."
      ],
      "metadata": {
        "id": "RP7NNNF6mxJ5"
      },
      "id": "RP7NNNF6mxJ5"
    },
    {
      "cell_type": "code",
      "source": [
        "# Given list of tuples\n",
        "players = [('Sachin Tendulkar', 34357), ('Ricky Ponting', 27483), ('Jack Kallis', 25534), ('Virat Kohli', 24936)]\n",
        "\n",
        "# Sort the list of tuples based on the second element (integer value) using a lambda function\n",
        "sorted_players = sorted(players, key=lambda x: x[1])\n",
        "\n",
        "# Print the sorted list\n",
        "print(\"Sorted players based on runs:\")\n",
        "for player in sorted_players:\n",
        "    print(player)\n"
      ],
      "metadata": {
        "id": "smCCuAattJcm",
        "outputId": "7429b09b-961f-4ffd-f184-21a893130bc0",
        "colab": {
          "base_uri": "https://localhost:8080/"
        }
      },
      "id": "smCCuAattJcm",
      "execution_count": 39,
      "outputs": [
        {
          "output_type": "stream",
          "name": "stdout",
          "text": [
            "Sorted players based on runs:\n",
            "('Virat Kohli', 24936)\n",
            "('Jack Kallis', 25534)\n",
            "('Ricky Ponting', 27483)\n",
            "('Sachin Tendulkar', 34357)\n"
          ]
        }
      ]
    },
    {
      "cell_type": "markdown",
      "source": [
        "#Q2. Write a Python Program to find the squares of all the numbers in the given list of integers using\n",
        "lambda and map functions.\n",
        "[1, 2, 3, 4, 5, 6, 7, 8, 9, 10]"
      ],
      "metadata": {
        "id": "LCkmMhIFuZWG"
      },
      "id": "LCkmMhIFuZWG"
    },
    {
      "cell_type": "code",
      "source": [
        "l1= [1, 2, 3, 4, 5, 6, 7, 8, 9, 10]\n",
        "list(map(lambda x:x**2,l1))"
      ],
      "metadata": {
        "id": "bFSOCEcHt0wt",
        "outputId": "ecd33770-efa1-49f0-c4d7-53287de43415",
        "colab": {
          "base_uri": "https://localhost:8080/"
        }
      },
      "id": "bFSOCEcHt0wt",
      "execution_count": 48,
      "outputs": [
        {
          "output_type": "execute_result",
          "data": {
            "text/plain": [
              "[1, 4, 9, 16, 25, 36, 49, 64, 81, 100]"
            ]
          },
          "metadata": {},
          "execution_count": 48
        }
      ]
    },
    {
      "cell_type": "markdown",
      "source": [
        "#Q3. Write a python program to convert the given list of integers into a tuple of strings. Use map and\n",
        "lambda functions\n",
        "Given String: [1, 2, 3, 4, 5, 6, 7, 8, 9, 10]\n",
        "Expected output: ('1', '2', '3', '4', '5', '6', '7', '8', '9', '10')"
      ],
      "metadata": {
        "id": "EhSjv18Sv97Q"
      },
      "id": "EhSjv18Sv97Q"
    },
    {
      "cell_type": "code",
      "source": [
        "l2=[1, 2, 3, 4, 5, 6, 7, 8, 9, 10]"
      ],
      "metadata": {
        "id": "XckeLYz9wCi-"
      },
      "id": "XckeLYz9wCi-",
      "execution_count": 50,
      "outputs": []
    },
    {
      "cell_type": "code",
      "source": [
        "list(map(lambda x:str(x),l2))"
      ],
      "metadata": {
        "id": "HrjgiSBGwK7n",
        "outputId": "34d83666-1452-41cb-dc15-613f1f416052",
        "colab": {
          "base_uri": "https://localhost:8080/"
        }
      },
      "id": "HrjgiSBGwK7n",
      "execution_count": 65,
      "outputs": [
        {
          "output_type": "execute_result",
          "data": {
            "text/plain": [
              "['1', '2', '3', '4', '5', '6', '7', '8', '9', '10']"
            ]
          },
          "metadata": {},
          "execution_count": 65
        }
      ]
    },
    {
      "cell_type": "markdown",
      "source": [
        "#Q4. Write a python program using reduce function to compute the product of a list containing number from 1 to 25."
      ],
      "metadata": {
        "id": "2jMCviecxIrb"
      },
      "id": "2jMCviecxIrb"
    },
    {
      "cell_type": "code",
      "source": [
        "l3=[]\n",
        "for i in range(1,25):\n",
        "  l3.append(i)\n",
        "\n"
      ],
      "metadata": {
        "id": "9Q4GvRpxxqbG"
      },
      "id": "9Q4GvRpxxqbG",
      "execution_count": 68,
      "outputs": []
    },
    {
      "cell_type": "code",
      "source": [
        "from functools import reduce"
      ],
      "metadata": {
        "id": "z0EHPbQ5xw8z"
      },
      "id": "z0EHPbQ5xw8z",
      "execution_count": 71,
      "outputs": []
    },
    {
      "cell_type": "code",
      "source": [
        "reduce(lambda a,b:a*b,l3)"
      ],
      "metadata": {
        "id": "DD1RKMJsx_BR",
        "outputId": "61fb7026-5663-4d46-b1e6-66ff8ff097ca",
        "colab": {
          "base_uri": "https://localhost:8080/"
        }
      },
      "id": "DD1RKMJsx_BR",
      "execution_count": 75,
      "outputs": [
        {
          "output_type": "execute_result",
          "data": {
            "text/plain": [
              "620448401733239439360000"
            ]
          },
          "metadata": {},
          "execution_count": 75
        }
      ]
    },
    {
      "cell_type": "markdown",
      "source": [
        "##Q5. Write a python program to filter the numbers in a given list that are divisible by 2 and 3 using the\n",
        "filter function.\n",
        "\n",
        "[2, 3, 6, 9, 27, 60, 90, 120, 55, 46]"
      ],
      "metadata": {
        "id": "1o344fGSzR8f"
      },
      "id": "1o344fGSzR8f"
    },
    {
      "cell_type": "code",
      "source": [
        "l4=[2, 3, 6, 9, 27, 60, 90, 120, 55, 46]"
      ],
      "metadata": {
        "id": "TQ3BmEUdykhS"
      },
      "id": "TQ3BmEUdykhS",
      "execution_count": 76,
      "outputs": []
    },
    {
      "cell_type": "code",
      "source": [
        "list(filter(lambda a:a%2==0 and a%3==0,l4))"
      ],
      "metadata": {
        "id": "lnIm7T_lzc-F",
        "outputId": "e647c00e-ac83-4295-e763-2ac29c5dd020",
        "colab": {
          "base_uri": "https://localhost:8080/"
        }
      },
      "id": "lnIm7T_lzc-F",
      "execution_count": 79,
      "outputs": [
        {
          "output_type": "execute_result",
          "data": {
            "text/plain": [
              "[6, 60, 90, 120]"
            ]
          },
          "metadata": {},
          "execution_count": 79
        }
      ]
    },
    {
      "cell_type": "markdown",
      "source": [
        "#Q6. Write a python program to find palindromes in the given list of strings using lambda and filter function\n",
        "['python', 'php', 'aba', 'radar', 'level']"
      ],
      "metadata": {
        "id": "hZQ61gWX0TzE"
      },
      "id": "hZQ61gWX0TzE"
    },
    {
      "cell_type": "code",
      "source": [
        "word=['python', 'php', 'aba', 'radar', 'level']\n",
        "list(filter(lambda a:a==a[::-1],word))"
      ],
      "metadata": {
        "id": "tK8vxF8dzwc3",
        "outputId": "5b399ed7-51b8-43b3-a858-0815c3ce7eb1",
        "colab": {
          "base_uri": "https://localhost:8080/"
        }
      },
      "id": "tK8vxF8dzwc3",
      "execution_count": 80,
      "outputs": [
        {
          "output_type": "execute_result",
          "data": {
            "text/plain": [
              "['php', 'aba', 'radar', 'level']"
            ]
          },
          "metadata": {},
          "execution_count": 80
        }
      ]
    },
    {
      "cell_type": "code",
      "source": [],
      "metadata": {
        "id": "DlTQxGXM1SG0"
      },
      "id": "DlTQxGXM1SG0",
      "execution_count": null,
      "outputs": []
    }
  ],
  "metadata": {
    "kernelspec": {
      "display_name": "Python 3",
      "name": "python3"
    },
    "language_info": {
      "name": "python"
    },
    "required_libs": [],
    "colab": {
      "provenance": []
    }
  },
  "nbformat": 4,
  "nbformat_minor": 5
}