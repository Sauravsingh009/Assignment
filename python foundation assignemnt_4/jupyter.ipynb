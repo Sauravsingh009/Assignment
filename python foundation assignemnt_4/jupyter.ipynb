{
  "cells": [
    {
      "cell_type": "markdown",
      "source": [
        "#Q1. What is the syntax for adding an element to a list in Python?\n",
        "Answer:\n",
        "Syntax: list_name.append(element)\n",
        "Example:"
      ],
      "metadata": {
        "id": "7I-MIb_GePDn"
      },
      "id": "7I-MIb_GePDn"
    },
    {
      "cell_type": "code",
      "source": [
        "list=[1,2,3,4,5]\n",
        "list.append(6)\n",
        "print(list)"
      ],
      "metadata": {
        "id": "AVoUZSkteiaW",
        "outputId": "5d63dbe2-38ab-42cf-f62d-970b9d0cbc14",
        "colab": {
          "base_uri": "https://localhost:8080/"
        }
      },
      "id": "AVoUZSkteiaW",
      "execution_count": 150,
      "outputs": [
        {
          "output_type": "stream",
          "name": "stdout",
          "text": [
            "[1, 2, 3, 4, 5, 6]\n"
          ]
        }
      ]
    },
    {
      "cell_type": "markdown",
      "source": [
        "#Q2. What is the difference between remove() and pop() functions in Python?\n",
        "Answer:remove()\n",
        "\n",
        "Purpose: Removes the first occurrence of a specific element from the list.\n",
        "Syntax: list_name.remove(element)\n",
        "\n",
        "pop()\n",
        "\n",
        "Purpose: Removes and returns an element from the list at a specific index. If no index is provided, it removes and returns the last element.\n",
        "Syntax: list_name.pop(index=optional)\n"
      ],
      "metadata": {
        "id": "7ASUdRQWezf3"
      },
      "id": "7ASUdRQWezf3"
    },
    {
      "cell_type": "markdown",
      "source": [
        "#Q3. Write a Python code to sort a list in descending order."
      ],
      "metadata": {
        "id": "cGysM2Cafx4H"
      },
      "id": "cGysM2Cafx4H"
    },
    {
      "cell_type": "code",
      "source": [
        "my_list=[1,3,5,7,8,9,0,999,77,66,55,4]\n",
        "my_list.sort(reverse=True)\n",
        "my_list"
      ],
      "metadata": {
        "id": "Nudxmttdfz17",
        "outputId": "ff3fd770-585e-41af-c658-4f609c7879ba",
        "colab": {
          "base_uri": "https://localhost:8080/"
        }
      },
      "id": "Nudxmttdfz17",
      "execution_count": 158,
      "outputs": [
        {
          "output_type": "execute_result",
          "data": {
            "text/plain": [
              "[999, 77, 66, 55, 9, 8, 7, 5, 4, 3, 1, 0]"
            ]
          },
          "metadata": {},
          "execution_count": 158
        }
      ]
    },
    {
      "cell_type": "markdown",
      "source": [
        "#Q4. Write a Python code to count the number of occurrences of an element in a list."
      ],
      "metadata": {
        "id": "SD1-Z3XGg0Gi"
      },
      "id": "SD1-Z3XGg0Gi"
    },
    {
      "cell_type": "code",
      "source": [
        "_list=[1,'e',6,4,3,21,4,3,1,5,7,8,9,0,8,5,4,3,2,1]\n",
        "_list.count(1)"
      ],
      "metadata": {
        "id": "SIaQUmJGg15G",
        "outputId": "351473ab-644b-421e-b78c-d302277291b2",
        "colab": {
          "base_uri": "https://localhost:8080/"
        }
      },
      "id": "SIaQUmJGg15G",
      "execution_count": 160,
      "outputs": [
        {
          "output_type": "execute_result",
          "data": {
            "text/plain": [
              "3"
            ]
          },
          "metadata": {},
          "execution_count": 160
        }
      ]
    },
    {
      "cell_type": "markdown",
      "source": [
        "#Q5. Write a Python code to reverse a list."
      ],
      "metadata": {
        "id": "rW9kpxURhUvs"
      },
      "id": "rW9kpxURhUvs"
    },
    {
      "cell_type": "code",
      "source": [
        "me_list=[1,2,3,4,5,6,7,8,'s','d',2,3,45,67]\n",
        "me_list.reverse()\n",
        "print(me_list)"
      ],
      "metadata": {
        "id": "fHzPjleShXRw",
        "outputId": "ac34c12b-23c1-4d11-9273-2cbc0a2da3c1",
        "colab": {
          "base_uri": "https://localhost:8080/"
        }
      },
      "id": "fHzPjleShXRw",
      "execution_count": 166,
      "outputs": [
        {
          "output_type": "stream",
          "name": "stdout",
          "text": [
            "[67, 45, 3, 2, 'd', 's', 8, 7, 6, 5, 4, 3, 2, 1]\n"
          ]
        }
      ]
    },
    {
      "cell_type": "code",
      "source": [],
      "metadata": {
        "id": "o78DQMg4hble"
      },
      "id": "o78DQMg4hble",
      "execution_count": null,
      "outputs": []
    }
  ],
  "metadata": {
    "kernelspec": {
      "display_name": "Python 3",
      "name": "python3"
    },
    "language_info": {
      "name": "python"
    },
    "required_libs": [],
    "colab": {
      "provenance": []
    }
  },
  "nbformat": 4,
  "nbformat_minor": 5
}