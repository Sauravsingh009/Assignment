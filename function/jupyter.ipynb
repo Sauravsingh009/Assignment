{
  "cells": [
    {
      "cell_type": "markdown",
      "source": [
        "#Q1. Which keyword is used to create a function? Create a function to return a list of odd numbers in the range of 1 to 25.\n",
        "answer:\n",
        "def keyword is used to create a function"
      ],
      "metadata": {
        "id": "S-SLpeZWlLSl"
      },
      "id": "S-SLpeZWlLSl"
    },
    {
      "cell_type": "code",
      "source": [
        "def odd():\n",
        "  for i in range (1,25):\n",
        "    if i%2!=0:\n",
        "      print(i)\n",
        "  return i"
      ],
      "metadata": {
        "id": "NyPls3W3lcvK"
      },
      "id": "NyPls3W3lcvK",
      "execution_count": 1,
      "outputs": []
    },
    {
      "cell_type": "code",
      "source": [
        "odd()"
      ],
      "metadata": {
        "id": "Z7P3EqUUl5QZ",
        "outputId": "435db760-927d-4dba-952d-819f0e4e5ef8",
        "colab": {
          "base_uri": "https://localhost:8080/"
        }
      },
      "id": "Z7P3EqUUl5QZ",
      "execution_count": 2,
      "outputs": [
        {
          "output_type": "stream",
          "name": "stdout",
          "text": [
            "1\n",
            "3\n",
            "5\n",
            "7\n",
            "9\n",
            "11\n",
            "13\n",
            "15\n",
            "17\n",
            "19\n",
            "21\n",
            "23\n"
          ]
        },
        {
          "output_type": "execute_result",
          "data": {
            "text/plain": [
              "24"
            ]
          },
          "metadata": {},
          "execution_count": 2
        }
      ]
    },
    {
      "cell_type": "markdown",
      "source": [
        "#Q2. Why *args and **kwargs is used in some functions? Create a function each for *args and **kwargs to demonstrate their use.\n",
        "Answer:\n",
        "The *args syntax allows a function to accept an arbitrary number of positional arguments. This means you can pass in as many arguments as you need without defining them individually in the function definition. These arguments are then accessible as a tuple within the function.\n",
        "\n",
        "The **kwargs syntax allows a function to accept an arbitrary number of keyword arguments. These arguments are passed in as key-value pairs and are accessible as a dictionary within the function.\n"
      ],
      "metadata": {
        "id": "sFPWWmPxmWvS"
      },
      "id": "sFPWWmPxmWvS"
    },
    {
      "cell_type": "code",
      "source": [
        "#Example of *args function\n",
        "def test(*args):\n",
        "  return args\n"
      ],
      "metadata": {
        "id": "L5Ta9RAVnlYh"
      },
      "id": "L5Ta9RAVnlYh",
      "execution_count": 3,
      "outputs": []
    },
    {
      "cell_type": "code",
      "source": [
        "test(\"saurav \",1,2,3,4,'singh')"
      ],
      "metadata": {
        "id": "nQPQ-_b6ot5a",
        "outputId": "496ffaa1-5fd9-4c1f-f9b6-6d4fa2f9b2cb",
        "colab": {
          "base_uri": "https://localhost:8080/"
        }
      },
      "id": "nQPQ-_b6ot5a",
      "execution_count": 4,
      "outputs": [
        {
          "output_type": "execute_result",
          "data": {
            "text/plain": [
              "('saurav ', 1, 2, 3, 4, 'singh')"
            ]
          },
          "metadata": {},
          "execution_count": 4
        }
      ]
    },
    {
      "cell_type": "code",
      "source": [
        "#Example of *kwargs\n",
        "def test1(**kwargs):\n",
        "  return kwargs"
      ],
      "metadata": {
        "id": "c-tjUbrso2ce"
      },
      "id": "c-tjUbrso2ce",
      "execution_count": 6,
      "outputs": []
    },
    {
      "cell_type": "code",
      "source": [
        "test1(a=\"saurav singh\",b=[1,2,3,4,5],c=\"pw\")"
      ],
      "metadata": {
        "id": "maLDyU2Rpm31",
        "outputId": "45343d6d-28b5-477a-f3e5-8269f1206979",
        "colab": {
          "base_uri": "https://localhost:8080/"
        }
      },
      "id": "maLDyU2Rpm31",
      "execution_count": 8,
      "outputs": [
        {
          "output_type": "execute_result",
          "data": {
            "text/plain": [
              "{'a': 'saurav singh', 'b': [1, 2, 3, 4, 5], 'c': 'pw'}"
            ]
          },
          "metadata": {},
          "execution_count": 8
        }
      ]
    },
    {
      "cell_type": "markdown",
      "source": [
        "#Q3. What is an iterator in python? Name the method used to initialise the iterator object and the method used for iteration. Use these methods to print the first five elements of the given list [2, 4, 6, 8, 10, 12, 14,\n",
        "#16, 18, 20].\n",
        "Answer: iterator in python means when an object or data that we can go next-next to that data and extract the data\n",
        "Methods used with iterators:\n",
        "\n",
        "iter(): This method is used to initialize an iterator object. You pass the iterable (e.g., a list) to the iter() function, and it returns an iterator object.\n",
        "next(): This method is used for iteration. It retrieves the next element from the iterator. When there are no more elements to retrieve, it raises a StopIteration exception.\n"
      ],
      "metadata": {
        "id": "L5KykcuFtT9u"
      },
      "id": "L5KykcuFtT9u"
    },
    {
      "cell_type": "code",
      "source": [
        "my_list=[2,4,6,8,10,12,14,16,18,20]\n",
        "list1=iter(my_list)\n"
      ],
      "metadata": {
        "id": "Zg7tga_YxkL1"
      },
      "id": "Zg7tga_YxkL1",
      "execution_count": 15,
      "outputs": []
    },
    {
      "cell_type": "code",
      "source": [
        "for  i in range(5):\n",
        "\n",
        "  l=next(list1)\n",
        "  print(l)\n",
        "\n"
      ],
      "metadata": {
        "id": "HCnRV6iKx5vw",
        "outputId": "e0b63bb0-931c-402a-d4a4-a31e911ab2b0",
        "colab": {
          "base_uri": "https://localhost:8080/"
        }
      },
      "id": "HCnRV6iKx5vw",
      "execution_count": 16,
      "outputs": [
        {
          "output_type": "stream",
          "name": "stdout",
          "text": [
            "2\n",
            "4\n",
            "6\n",
            "8\n",
            "10\n"
          ]
        }
      ]
    },
    {
      "cell_type": "markdown",
      "source": [
        "#Q4. What is a generator function in python? Why yield keyword is used? Give an example of a generator function\n",
        "Answer:\n",
        "Generator Functions in Python\n",
        "In Python, a generator function is a special type of function that returns an iterator object. Unlike regular functions that compute and return a single value, generator functions produce a sequence of values over time, one at a time, using the yield keyword.\n",
        "\n",
        "Why use the yield keyword?\n",
        "The yield keyword is the heart of a generator function. When encountered, it does the following:\n",
        "\n",
        "Pauses the function's execution: The generator function's state is saved, including the values of local variables and the point of execution.\n",
        "Returns a value to the caller: The value specified after yield is sent back to the caller of the generator.\n",
        "Resumes execution when requested: The next time a value is requested from the\n",
        " (e.g., using next() or in a loop), the function resumes from where it left off, with the same state it had before."
      ],
      "metadata": {
        "id": "dd4FcVirzRoc"
      },
      "id": "dd4FcVirzRoc"
    },
    {
      "cell_type": "code",
      "source": [
        "def gen(n):\n",
        "  while n>0:\n",
        "    yield n\n",
        "    n=n-1\n"
      ],
      "metadata": {
        "id": "ZbwMw0F8yIGt"
      },
      "id": "ZbwMw0F8yIGt",
      "execution_count": 33,
      "outputs": []
    },
    {
      "cell_type": "code",
      "source": [
        "c=gen(5)"
      ],
      "metadata": {
        "id": "dTdr43ULEWoS"
      },
      "id": "dTdr43ULEWoS",
      "execution_count": 34,
      "outputs": []
    },
    {
      "cell_type": "code",
      "source": [
        "type(c)"
      ],
      "metadata": {
        "id": "72T9E-gZBuKz",
        "outputId": "c0d31b2b-c7f1-467f-e904-e3b0398fc2a2",
        "colab": {
          "base_uri": "https://localhost:8080/"
        }
      },
      "id": "72T9E-gZBuKz",
      "execution_count": 35,
      "outputs": [
        {
          "output_type": "execute_result",
          "data": {
            "text/plain": [
              "generator"
            ]
          },
          "metadata": {},
          "execution_count": 35
        }
      ]
    },
    {
      "cell_type": "code",
      "source": [
        "for i in c:\n",
        "  print(i)"
      ],
      "metadata": {
        "id": "Upm7GdBaC_AZ",
        "outputId": "40b957ff-323a-4b89-fd48-95e1b760a7cf",
        "colab": {
          "base_uri": "https://localhost:8080/"
        }
      },
      "id": "Upm7GdBaC_AZ",
      "execution_count": 36,
      "outputs": [
        {
          "output_type": "stream",
          "name": "stdout",
          "text": [
            "5\n",
            "4\n",
            "3\n",
            "2\n",
            "1\n"
          ]
        }
      ]
    },
    {
      "cell_type": "code",
      "source": [],
      "metadata": {
        "id": "Q1Dj96BJFGXj"
      },
      "id": "Q1Dj96BJFGXj",
      "execution_count": null,
      "outputs": []
    },
    {
      "cell_type": "markdown",
      "source": [
        "#Q5. Create a generator function for prime numbers less than 1000. Use the next() method to print the first 20 prime numbers.\n",
        "\n",
        "Answer:\n",
        "\n"
      ],
      "metadata": {
        "id": "1adIN-_YFyqu"
      },
      "id": "1adIN-_YFyqu"
    },
    {
      "cell_type": "code",
      "source": [
        "def primes_less_than_1000():\n",
        "    \"\"\"Generates prime numbers less than 1000.\"\"\"\n",
        "    yield 2  # 2 is the first prime number\n",
        "\n",
        "    # Check odd numbers starting from 3\n",
        "    for num in range(3, 1000, 2):\n",
        "        is_prime = True\n",
        "        for i in range(3, int(num**0.5) + 1, 2):  # Optimized primality test\n",
        "            if num % i == 0:\n",
        "                is_prime = False\n",
        "                break\n",
        "        if is_prime:\n",
        "            yield num\n",
        "\n",
        "# Create a generator object\n",
        "prime_generator = primes_less_than_1000()\n",
        "\n",
        "# Print the first 20 prime numbers\n",
        "for _ in range(20):\n",
        "    try:\n",
        "        prime = next(prime_generator)\n",
        "        print(prime)\n",
        "    except StopIteration:  # Handle the case where there are fewer than 20 primes\n",
        "        print(\"No more prime numbers within the limit.\")\n",
        "        break\n"
      ],
      "metadata": {
        "id": "CmG8wARuG9RA",
        "outputId": "cddcac98-2451-472a-e97b-a1ea978129a9",
        "colab": {
          "base_uri": "https://localhost:8080/"
        }
      },
      "id": "CmG8wARuG9RA",
      "execution_count": 46,
      "outputs": [
        {
          "output_type": "stream",
          "name": "stdout",
          "text": [
            "2\n",
            "3\n",
            "5\n",
            "7\n",
            "11\n",
            "13\n",
            "17\n",
            "19\n",
            "23\n",
            "29\n",
            "31\n",
            "37\n",
            "41\n",
            "43\n",
            "47\n",
            "53\n",
            "59\n",
            "61\n",
            "67\n",
            "71\n"
          ]
        }
      ]
    },
    {
      "cell_type": "markdown",
      "source": [
        "#Q6. Write a python program to print the first 10 Fibonacci numbers using a while loop."
      ],
      "metadata": {
        "id": "6r7c2SUYIZIP"
      },
      "id": "6r7c2SUYIZIP"
    },
    {
      "cell_type": "code",
      "source": [
        "def fib():\n",
        "\n",
        "  a=0\n",
        "  b=1\n",
        "  while  True:\n",
        "    yield a\n",
        "    a,b=b,a+b\n"
      ],
      "metadata": {
        "id": "jWqKFnGBIWHX"
      },
      "id": "jWqKFnGBIWHX",
      "execution_count": 62,
      "outputs": []
    },
    {
      "cell_type": "code",
      "source": [
        "ser=fib()"
      ],
      "metadata": {
        "id": "q8Zo0mXhJVCQ"
      },
      "id": "q8Zo0mXhJVCQ",
      "execution_count": 63,
      "outputs": []
    },
    {
      "cell_type": "code",
      "source": [
        "for i in range(10):\n",
        "  print(next(ser))"
      ],
      "metadata": {
        "id": "2GtTi4M_Jh4e",
        "outputId": "aa6e341f-5d2b-48c5-96a3-c673c10c6f80",
        "colab": {
          "base_uri": "https://localhost:8080/"
        }
      },
      "id": "2GtTi4M_Jh4e",
      "execution_count": 64,
      "outputs": [
        {
          "output_type": "stream",
          "name": "stdout",
          "text": [
            "0\n",
            "1\n",
            "1\n",
            "2\n",
            "3\n",
            "5\n",
            "8\n",
            "13\n",
            "21\n",
            "34\n"
          ]
        }
      ]
    },
    {
      "cell_type": "markdown",
      "source": [
        "#Q7. Write a List Comprehension to iterate through the given string: ‘pwskills’.\n",
        "Expected output: ['p', 'w', 's', 'k', 'i', 'l', 'l', 's']"
      ],
      "metadata": {
        "id": "zkZY3uPAK6CG"
      },
      "id": "zkZY3uPAK6CG"
    },
    {
      "cell_type": "code",
      "source": [
        "string = 'pwskills'\n",
        "result = [char for char in string]\n",
        "print(result)"
      ],
      "metadata": {
        "id": "98IUNHVbMZj6",
        "outputId": "c0bdc29d-d481-4c14-fcc5-4822ef921635",
        "colab": {
          "base_uri": "https://localhost:8080/"
        }
      },
      "id": "98IUNHVbMZj6",
      "execution_count": 98,
      "outputs": [
        {
          "output_type": "stream",
          "name": "stdout",
          "text": [
            "['p', 'w', 's', 'k', 'i', 'l', 'l', 's']\n"
          ]
        }
      ]
    },
    {
      "cell_type": "markdown",
      "source": [
        "#Q8. Write a python program to check whether a given number is Palindrome or not using a while loop.\n"
      ],
      "metadata": {
        "id": "FSNAS18kO1SV"
      },
      "id": "FSNAS18kO1SV"
    },
    {
      "cell_type": "code",
      "source": [
        "num=int(input('number'))\n",
        "r_num=num\n",
        "p_num=0\n",
        "while num>0:\n",
        "  di=num%10\n",
        "  p_num=p_num*10+di\n",
        "  num=num//10\n",
        "if p_num==r_num:\n",
        "  print(\"palindrome\")\n",
        "else:\n",
        "  print(\"not palindrome\")"
      ],
      "metadata": {
        "id": "p2gBrKn4Ol7n",
        "outputId": "a7557c46-62f4-42c1-f8eb-424c0bc746f1",
        "colab": {
          "base_uri": "https://localhost:8080/"
        }
      },
      "id": "p2gBrKn4Ol7n",
      "execution_count": 104,
      "outputs": [
        {
          "output_type": "stream",
          "name": "stdout",
          "text": [
            "number131\n",
            "palindrome\n"
          ]
        }
      ]
    },
    {
      "cell_type": "markdown",
      "source": [
        "#Q9. Write a code to print odd numbers from 1 to 100 using list comprehension.\n",
        "Answser:\n",
        "\n",
        "\n",
        "\n",
        "\n"
      ],
      "metadata": {
        "id": "JHYv0id4SPL0"
      },
      "id": "JHYv0id4SPL0"
    },
    {
      "cell_type": "markdown",
      "source": [],
      "metadata": {
        "id": "2-SwOpLgVWqz"
      },
      "id": "2-SwOpLgVWqz"
    },
    {
      "cell_type": "code",
      "source": [
        "list1"
      ],
      "metadata": {
        "id": "1tCInEmLVz-X",
        "outputId": "9ceac516-58d7-4ba9-a189-b0b7e9fc0acd",
        "colab": {
          "base_uri": "https://localhost:8080/"
        }
      },
      "id": "1tCInEmLVz-X",
      "execution_count": 125,
      "outputs": [
        {
          "output_type": "execute_result",
          "data": {
            "text/plain": [
              "[0,\n",
              " 1,\n",
              " 2,\n",
              " 3,\n",
              " 4,\n",
              " 5,\n",
              " 6,\n",
              " 7,\n",
              " 8,\n",
              " 9,\n",
              " 10,\n",
              " 11,\n",
              " 12,\n",
              " 13,\n",
              " 14,\n",
              " 15,\n",
              " 16,\n",
              " 17,\n",
              " 18,\n",
              " 19,\n",
              " 20,\n",
              " 21,\n",
              " 22,\n",
              " 23,\n",
              " 24,\n",
              " 25,\n",
              " 26,\n",
              " 27,\n",
              " 28,\n",
              " 29,\n",
              " 30,\n",
              " 31,\n",
              " 32,\n",
              " 33,\n",
              " 34,\n",
              " 35,\n",
              " 36,\n",
              " 37,\n",
              " 38,\n",
              " 39,\n",
              " 40,\n",
              " 41,\n",
              " 42,\n",
              " 43,\n",
              " 44,\n",
              " 45,\n",
              " 46,\n",
              " 47,\n",
              " 48,\n",
              " 49,\n",
              " 50,\n",
              " 51,\n",
              " 52,\n",
              " 53,\n",
              " 54,\n",
              " 55,\n",
              " 56,\n",
              " 57,\n",
              " 58,\n",
              " 59,\n",
              " 60,\n",
              " 61,\n",
              " 62,\n",
              " 63,\n",
              " 64,\n",
              " 65,\n",
              " 66,\n",
              " 67,\n",
              " 68,\n",
              " 69,\n",
              " 70,\n",
              " 71,\n",
              " 72,\n",
              " 73,\n",
              " 74,\n",
              " 75,\n",
              " 76,\n",
              " 77,\n",
              " 78,\n",
              " 79,\n",
              " 80,\n",
              " 81,\n",
              " 82,\n",
              " 83,\n",
              " 84,\n",
              " 85,\n",
              " 86,\n",
              " 87,\n",
              " 88,\n",
              " 89,\n",
              " 90,\n",
              " 91,\n",
              " 92,\n",
              " 93,\n",
              " 94,\n",
              " 95,\n",
              " 96,\n",
              " 97,\n",
              " 98,\n",
              " 99,\n",
              " 100]"
            ]
          },
          "metadata": {},
          "execution_count": 125
        }
      ]
    },
    {
      "cell_type": "code",
      "source": [
        "list1=[]\n",
        "for i in range(0,101):\n",
        "  list1.append(i)"
      ],
      "metadata": {
        "id": "_d6T_f2dVZLo"
      },
      "id": "_d6T_f2dVZLo",
      "execution_count": 124,
      "outputs": []
    },
    {
      "cell_type": "code",
      "source": [
        "def odd(list1):\n",
        "  new_list=[]\n",
        "  for i  in list1:\n",
        "    if i%2!=0:\n",
        "      new_list.append(i)\n",
        "  return new_list\n",
        ""
      ],
      "metadata": {
        "id": "UYyyN9YHRFQL"
      },
      "id": "UYyyN9YHRFQL",
      "execution_count": 126,
      "outputs": []
    },
    {
      "cell_type": "code",
      "source": [
        "new_list=odd(list1)"
      ],
      "metadata": {
        "id": "hqtYmMZ0T9OD"
      },
      "id": "hqtYmMZ0T9OD",
      "execution_count": 128,
      "outputs": []
    },
    {
      "cell_type": "code",
      "source": [
        "new_list"
      ],
      "metadata": {
        "id": "koQ0Dp3dUDGe",
        "outputId": "80e1ef21-2a47-459c-fee1-b8ed08d3b1b2",
        "colab": {
          "base_uri": "https://localhost:8080/"
        }
      },
      "id": "koQ0Dp3dUDGe",
      "execution_count": 129,
      "outputs": [
        {
          "output_type": "execute_result",
          "data": {
            "text/plain": [
              "[1,\n",
              " 3,\n",
              " 5,\n",
              " 7,\n",
              " 9,\n",
              " 11,\n",
              " 13,\n",
              " 15,\n",
              " 17,\n",
              " 19,\n",
              " 21,\n",
              " 23,\n",
              " 25,\n",
              " 27,\n",
              " 29,\n",
              " 31,\n",
              " 33,\n",
              " 35,\n",
              " 37,\n",
              " 39,\n",
              " 41,\n",
              " 43,\n",
              " 45,\n",
              " 47,\n",
              " 49,\n",
              " 51,\n",
              " 53,\n",
              " 55,\n",
              " 57,\n",
              " 59,\n",
              " 61,\n",
              " 63,\n",
              " 65,\n",
              " 67,\n",
              " 69,\n",
              " 71,\n",
              " 73,\n",
              " 75,\n",
              " 77,\n",
              " 79,\n",
              " 81,\n",
              " 83,\n",
              " 85,\n",
              " 87,\n",
              " 89,\n",
              " 91,\n",
              " 93,\n",
              " 95,\n",
              " 97,\n",
              " 99]"
            ]
          },
          "metadata": {},
          "execution_count": 129
        }
      ]
    },
    {
      "cell_type": "code",
      "source": [],
      "metadata": {
        "id": "-blVBlRGUgLA"
      },
      "id": "-blVBlRGUgLA",
      "execution_count": null,
      "outputs": []
    }
  ],
  "metadata": {
    "kernelspec": {
      "display_name": "Python 3",
      "name": "python3"
    },
    "language_info": {
      "name": "python"
    },
    "required_libs": [],
    "colab": {
      "provenance": []
    }
  },
  "nbformat": 4,
  "nbformat_minor": 5
}