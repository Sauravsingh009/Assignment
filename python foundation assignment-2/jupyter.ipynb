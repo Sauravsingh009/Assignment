{
  "cells": [
    {
      "cell_type": "markdown",
      "source": [
        "#Q1. How can we store a single quote (‘) as a string in a variable?\n",
        "Answer:\n",
        "1. By using double quotes\n",
        "2.By using thriple quotes"
      ],
      "metadata": {
        "id": "1WKzfB0w3kzr"
      },
      "id": "1WKzfB0w3kzr"
    },
    {
      "cell_type": "code",
      "source": [
        "string=\"'this is single quote\"\n",
        "my_string=''''this is single quote'''\n",
        "print(string)\n",
        "print(my_string)"
      ],
      "metadata": {
        "id": "gEL4K1g04S9i",
        "outputId": "0f3b25b7-585f-4254-c508-679bb2fa6478",
        "colab": {
          "base_uri": "https://localhost:8080/"
        }
      },
      "id": "gEL4K1g04S9i",
      "execution_count": 9,
      "outputs": [
        {
          "output_type": "stream",
          "name": "stdout",
          "text": [
            "'this is single quote\n",
            "'this is single quote\n"
          ]
        }
      ]
    },
    {
      "cell_type": "markdown",
      "source": [
        "#Q2. Refer the below variable:\n",
        "#x = ‘a’\n",
        "#Here, is x a character type or string type variable? Support your answer with an explanation.\n",
        "Answer:\n",
        "in the given case, x is a string type variable.\n",
        "\n",
        "Explanation:\n",
        "\n",
        "String Representation: When you assign 'a' to x, you're essentially creating a string literal containing the character 'a'.\n",
        "String Operations: You can perform string operations on x, like concatenation or slicing, which wouldn't be possible if it were just a character. For example, x + 'b' would result in the string 'ab'.\n",
        "Type Confirmation: You can verify the type of x using the type() function:"
      ],
      "metadata": {
        "id": "WijrluBS5PR0"
      },
      "id": "WijrluBS5PR0"
    },
    {
      "cell_type": "code",
      "source": [
        "x='a'\n",
        "print(type(x))"
      ],
      "metadata": {
        "id": "0SWoNHE353u3",
        "outputId": "0c9dd139-6da7-4fbf-8961-70186d0d6e6f",
        "colab": {
          "base_uri": "https://localhost:8080/"
        }
      },
      "id": "0SWoNHE353u3",
      "execution_count": 11,
      "outputs": [
        {
          "output_type": "stream",
          "name": "stdout",
          "text": [
            "<class 'str'>\n"
          ]
        }
      ]
    },
    {
      "cell_type": "markdown",
      "source": [
        "#Q3. Apply the following functions on this variable: ‘Welcome to Python foundation course'\n",
        "1. find()\n",
        "2. count()\n",
        "3. len()\n",
        "4. Concatenation\n",
        "\n"
      ],
      "metadata": {
        "id": "6BpMEY7F6J7l"
      },
      "id": "6BpMEY7F6J7l"
    },
    {
      "cell_type": "code",
      "source": [
        "s='welcome to python foundation course'\n",
        "print(s.find('f'))\n",
        "print(s.count('e'))\n",
        "print(len(s))\n",
        "s+' Hello'\n"
      ],
      "metadata": {
        "id": "djTIllLH6mOS",
        "outputId": "19748c30-0921-425a-e43d-bb16dd805ac7",
        "colab": {
          "base_uri": "https://localhost:8080/",
          "height": 87
        }
      },
      "id": "djTIllLH6mOS",
      "execution_count": 24,
      "outputs": [
        {
          "output_type": "stream",
          "name": "stdout",
          "text": [
            "18\n",
            "3\n",
            "35\n"
          ]
        },
        {
          "output_type": "execute_result",
          "data": {
            "text/plain": [
              "'welcome to python foundation course Hello'"
            ],
            "application/vnd.google.colaboratory.intrinsic+json": {
              "type": "string"
            }
          },
          "metadata": {},
          "execution_count": 24
        }
      ]
    },
    {
      "cell_type": "markdown",
      "source": [
        "#Q4. For the variable: word = ‘PanaJi@12256’\n",
        "Calculate the following:\n",
        "(a) Total number of alphabets in lowercase\n",
        "(b) Total number of alphabets in uppercase\n",
        "(c) Total number of numerical in string\n"
      ],
      "metadata": {
        "id": "aqoKDKuy8hhC"
      },
      "id": "aqoKDKuy8hhC"
    },
    {
      "cell_type": "code",
      "source": [
        "word=\"PanaJi@12256\"\n",
        "lowercase_count = sum(1 for char in word if char.islower())\n",
        "print(lowercase_count)\n",
        "uppercase_count=sum(1 for char in word if char.isupper())\n",
        "print(uppercase_count)\n",
        "numerical_count=sum(1 for int in word if int.isdigit())\n",
        "print(numerical_count)\n"
      ],
      "metadata": {
        "id": "B6e-au3g8yGh",
        "outputId": "f2fb5a21-8edb-4a73-8e6d-fbcbab37f6a7",
        "colab": {
          "base_uri": "https://localhost:8080/"
        }
      },
      "id": "B6e-au3g8yGh",
      "execution_count": 36,
      "outputs": [
        {
          "output_type": "stream",
          "name": "stdout",
          "text": [
            "4\n",
            "2\n",
            "5\n"
          ]
        }
      ]
    },
    {
      "cell_type": "markdown",
      "source": [
        "#Q5. Write a code to store a numerical value inside a variable then convert it into string.\n"
      ],
      "metadata": {
        "id": "vrOevUzUAD2l"
      },
      "id": "vrOevUzUAD2l"
    },
    {
      "cell_type": "code",
      "source": [
        "sum=4567\n",
        "print(sum)\n",
        "print(type(sum))\n",
        "string=str(sum)\n",
        "print(string)\n",
        "print(type(string))"
      ],
      "metadata": {
        "id": "PSKwb5KUALxp",
        "outputId": "baac18e4-40c2-47fc-ba3e-d4394e449ead",
        "colab": {
          "base_uri": "https://localhost:8080/"
        }
      },
      "id": "PSKwb5KUALxp",
      "execution_count": 47,
      "outputs": [
        {
          "output_type": "stream",
          "name": "stdout",
          "text": [
            "4567\n",
            "<class 'int'>\n",
            "4567\n",
            "<class 'str'>\n"
          ]
        }
      ]
    }
  ],
  "metadata": {
    "kernelspec": {
      "display_name": "Python 3",
      "name": "python3"
    },
    "language_info": {
      "name": "python"
    },
    "required_libs": [],
    "colab": {
      "provenance": []
    }
  },
  "nbformat": 4,
  "nbformat_minor": 5
}