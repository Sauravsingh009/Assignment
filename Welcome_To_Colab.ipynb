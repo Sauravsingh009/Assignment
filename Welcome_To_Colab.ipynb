{
  "cells": [
    {
      "cell_type": "markdown",
      "metadata": {
        "id": "view-in-github",
        "colab_type": "text"
      },
      "source": [
        "<a href=\"https://colab.research.google.com/github/Sauravsingh009/Assignment-1/blob/main/Welcome_To_Colab.ipynb\" target=\"_parent\"><img src=\"https://colab.research.google.com/assets/colab-badge.svg\" alt=\"Open In Colab\"/></a>"
      ]
    },
    {
      "cell_type": "code",
      "source": [
        "##Q1. Create one variable containing following type of data:\n",
        "##(i) string\n",
        "##ans-\n",
        "st=\"saurav singh\"\n",
        "##(ii) list\n",
        "l=[1,2,3,4,5,6,7,'saurav']\n",
        "##(iii) float\n",
        "fl=234.56\n",
        "##(iii) float\n",
        "t=('saurav singh',1,2,3,4,5,6)"
      ],
      "metadata": {
        "id": "7Eloiyi_Myrr"
      },
      "execution_count": 1,
      "outputs": []
    },
    {
      "cell_type": "code",
      "source": [
        "##Q2. Given are some following variables containing data:\n",
        "##(i) var1 = ‘ ‘\n",
        "##answer: string\n",
        "##(ii) var2 = ‘[ DS , ML , Python]’\n",
        "##answer:string\n",
        "##(iii) var3 = [ ‘DS’ , ’ML’ , ‘Python’ ]\n",
        "##answer:list\n",
        "##(iv) var4 = 1.\n",
        "##answer:float"
      ],
      "metadata": {
        "id": "dhLz1E6ANxYV"
      },
      "execution_count": 7,
      "outputs": []
    },
    {
      "cell_type": "code",
      "source": [
        "##Q3. Explain the use of the following operators using an example:\n",
        "##(i) /\n",
        "##answer:\n",
        "#this operator is used for division\n",
        "#for example\n",
        "a=9\n",
        "b=3\n",
        "print(a/b)\n",
        "\n",
        "##(ii) %\n",
        "##answer:\n",
        "#this operator is used for getting remainder\n",
        "#for example\n",
        "a=9\n",
        "b=3\n",
        "print(a%b)\n",
        "#(iii) //\n",
        "##answer:\n",
        "#this operator is used for getting quotient\n",
        "#for example\n",
        "a=9\n",
        "b=3\n",
        "print(a//b)\n",
        "#(iv) **\n",
        "##answer:\n",
        "#this operator is used for getting power\n",
        "#for example\n",
        "a=9\n",
        "b=3\n",
        "print(a**b)"
      ],
      "metadata": {
        "colab": {
          "base_uri": "https://localhost:8080/"
        },
        "id": "lljWg09xOPSH",
        "outputId": "425ac661-094a-44f1-f278-fbb04d8edb70"
      },
      "execution_count": 11,
      "outputs": [
        {
          "output_type": "stream",
          "name": "stdout",
          "text": [
            "3.0\n",
            "0\n",
            "3\n",
            "729\n"
          ]
        }
      ]
    },
    {
      "cell_type": "code",
      "source": [
        "#Q4. Create a list of length 10 of your choice containing multiple types of data. Using for loop print the\n",
        "#element and its data type.\n",
        "l=[1,2,3,4,5,6,7,8,9,10]\n",
        "for i in l:\n",
        "  print(i)\n",
        "  print(type(i))"
      ],
      "metadata": {
        "colab": {
          "base_uri": "https://localhost:8080/"
        },
        "id": "ODtmTin_Ofar",
        "outputId": "32b12074-1b25-4a39-a142-ba0a1396cf45"
      },
      "execution_count": 18,
      "outputs": [
        {
          "output_type": "stream",
          "name": "stdout",
          "text": [
            "1\n",
            "<class 'int'>\n",
            "2\n",
            "<class 'int'>\n",
            "3\n",
            "<class 'int'>\n",
            "4\n",
            "<class 'int'>\n",
            "5\n",
            "<class 'int'>\n",
            "6\n",
            "<class 'int'>\n",
            "7\n",
            "<class 'int'>\n",
            "8\n",
            "<class 'int'>\n",
            "9\n",
            "<class 'int'>\n",
            "10\n",
            "<class 'int'>\n"
          ]
        }
      ]
    },
    {
      "cell_type": "code",
      "source": [
        "#Q5. Using a while loop, verify if the number A is purely divisible by number B and if so then how many\n",
        "#times it can be divisible.\n",
        "a=int(input(\"enter the value of a=\"))\n",
        "b=int(input(\"enter the vakue of b=\"))\n",
        "while(a%b==0):\n",
        "  print(a//b)\n",
        "  break\n"
      ],
      "metadata": {
        "colab": {
          "base_uri": "https://localhost:8080/"
        },
        "id": "Q93eIZZ0Oif7",
        "outputId": "a3ec0afc-c03e-455c-c444-2eae6c2f674b"
      },
      "execution_count": 1,
      "outputs": [
        {
          "output_type": "stream",
          "name": "stdout",
          "text": [
            "enter the value of a=99\n",
            "enter the vakue of b=3\n",
            "33\n"
          ]
        }
      ]
    },
    {
      "cell_type": "code",
      "source": [
        "#Q6. Create a list containing 25 int type data. Using for loop and if-else condition print if the element is\n",
        "#divisible by 3 or not.\n",
        "ll=[1,2,3,4,5,6,7,9,22,34,54,65,87,665,434,54,35332,99,87,54,32,49,111,222,333]\n",
        "\n",
        "for i in ll :\n",
        "  if i%3==0:\n",
        "    print(i)\n",
        "    print(\"is divisible by 3\")\n",
        "  else:\n",
        "    print(i)\n",
        "    print(\"is not divisible by 3\")"
      ],
      "metadata": {
        "colab": {
          "base_uri": "https://localhost:8080/"
        },
        "id": "oCagHNsESch5",
        "outputId": "693aeb25-7d50-43ec-be64-baa569347ba9"
      },
      "execution_count": 23,
      "outputs": [
        {
          "output_type": "stream",
          "name": "stdout",
          "text": [
            "1\n",
            "is not divisible by 3\n",
            "2\n",
            "is not divisible by 3\n",
            "3\n",
            "is divisible by 3\n",
            "4\n",
            "is not divisible by 3\n",
            "5\n",
            "is not divisible by 3\n",
            "6\n",
            "is divisible by 3\n",
            "7\n",
            "is not divisible by 3\n",
            "9\n",
            "is divisible by 3\n",
            "22\n",
            "is not divisible by 3\n",
            "34\n",
            "is not divisible by 3\n",
            "54\n",
            "is divisible by 3\n",
            "65\n",
            "is not divisible by 3\n",
            "87\n",
            "is divisible by 3\n",
            "665\n",
            "is not divisible by 3\n",
            "434\n",
            "is not divisible by 3\n",
            "54\n",
            "is divisible by 3\n",
            "35332\n",
            "is not divisible by 3\n",
            "99\n",
            "is divisible by 3\n",
            "87\n",
            "is divisible by 3\n",
            "54\n",
            "is divisible by 3\n",
            "32\n",
            "is not divisible by 3\n",
            "49\n",
            "is not divisible by 3\n",
            "111\n",
            "is divisible by 3\n",
            "222\n",
            "is divisible by 3\n",
            "333\n",
            "is divisible by 3\n"
          ]
        }
      ]
    },
    {
      "cell_type": "code",
      "source": [
        "#Q7. What do you understand about mutable and immutable data types? Give examples for both showing\n",
        "#this property.\n",
        "#answer:\n",
        "#Mutable data types are those whose values can be changed after they created.\n",
        "# for example :List\n",
        "list=[1,2,3,4,5,6]\n",
        "list[3]=55\n",
        "list\n",
        "#Immutable data type are those whose value can not changed after they created.\n",
        "#for example: tuple,string etc\n",
        "t=(1,2,3,4,5)\n",
        "t[3]=55\n",
        "#here error is raise\n",
        "list"
      ],
      "metadata": {
        "colab": {
          "base_uri": "https://localhost:8080/"
        },
        "id": "yipeJz5gUnke",
        "outputId": "399fe8d2-807c-462b-d149-4f95d6df3384"
      },
      "execution_count": 47,
      "outputs": [
        {
          "output_type": "execute_result",
          "data": {
            "text/plain": [
              "[1, 2, 3, 55, 5, 6]"
            ]
          },
          "metadata": {},
          "execution_count": 47
        }
      ]
    },
    {
      "cell_type": "code",
      "source": [],
      "metadata": {
        "id": "6y3Ol7paZdlg"
      },
      "execution_count": null,
      "outputs": []
    }
  ],
  "metadata": {
    "colab": {
      "name": "Welcome To Colab",
      "provenance": [],
      "include_colab_link": true
    },
    "kernelspec": {
      "display_name": "Python 3",
      "name": "python3"
    }
  },
  "nbformat": 4,
  "nbformat_minor": 0
}